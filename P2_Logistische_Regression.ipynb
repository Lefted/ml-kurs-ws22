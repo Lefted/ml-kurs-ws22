{
 "cells": [
  {
   "cell_type": "markdown",
   "metadata": {},
   "source": [
    "# Praktische Übung 2: Logistische Regresssion"
   ]
  },
  {
   "cell_type": "markdown",
   "metadata": {},
   "source": [
    "## Titanic Datensatz\n",
    "Vorhersageproblem: Verschiedene Attribute zu den Passagieren auf der Titanic <br>\n",
    "Frage: Hat der Passagier das Unglück überlebt?"
   ]
  },
  {
   "cell_type": "markdown",
   "metadata": {},
   "source": [
    "Da wir den Umgang mit kategorischen Features noch nicht eingeführt haben benutzen wir nur folgende Attribute: <br>\n",
    "- Pclass , Passenger Class (1 = 1st, 2 = 2nd, 3 = 3rd)\n",
    "- Survived , Survival (0 = no, 1 = yes)\n",
    "- age, Age\n",
    "- sibso , Number of siblings/spouses aboard\n",
    "- parch , Number of children/parents aboard\n",
    "- fare , Passender Fare (brithish pound)"
   ]
  },
  {
   "cell_type": "markdown",
   "metadata": {},
   "source": [
    "## Aufgabe 1"
   ]
  },
  {
   "cell_type": "markdown",
   "metadata": {},
   "source": [
    "1. Laden Sie den Datensatz aus `titanic.csv` in einen Pandas DataFrame. Die Daten befinden sich im `/data` folder auf [GitHub](https://github.com/pabair/ml-kurs-ws22/).\n",
    "2. Erstellen Sie einen neuen DataFrame, der nur die folgenden Spalten enthält: \"Survived\", \"Pclass\", \"Age\", \"Fare\", \"Sibsp\", \"Parch\"\n",
    "3. Entfernen Sie die leeren Felder aus dem DataFrame (d.h. Felder mit `NaN`-Werten) indem sie die Methode `dropna()` auf dem DataFrame aufrufen. <br>Zählen Sie wie viele Zeilen der DataFrame vor und nach dem Aufruf hat. "
   ]
  },
  {
   "cell_type": "code",
   "execution_count": 112,
   "metadata": {},
   "outputs": [
    {
     "name": "stdout",
     "output_type": "stream",
     "text": [
      "Shape of the dataframe:  (891, 12)\n",
      "Shape of the dataframe:  (891, 6)\n",
      "Shape of the dataframe after dropping all rows with missing values:  (714, 6)\n"
     ]
    }
   ],
   "source": [
    "# import pandas\n",
    "import pandas as pd\n",
    "\n",
    "# load the data from ./data/titanic.csv into a pandas dataframe\n",
    "df_all = pd.read_csv('./data/titanic.csv')\n",
    "# create a new dataframe with only the features survived, Pclass, Age, Fare, Sibsp, Parch\n",
    "\n",
    "# log shape\n",
    "print('Shape of the dataframe: ', df_all.shape)\n",
    "\n",
    "df = df_all[['Survived', 'Pclass', 'Age', 'Fare', 'SibSp', 'Parch']]\n",
    "\n",
    "# log shape\n",
    "print('Shape of the dataframe: ', df.shape)\n",
    "\n",
    "# drop all rows with missing values\n",
    "df = df.dropna()\n",
    "\n",
    "# log shape\n",
    "print('Shape of the dataframe after dropping all rows with missing values: ', df.shape)"
   ]
  },
  {
   "cell_type": "code",
   "execution_count": 113,
   "metadata": {},
   "outputs": [
    {
     "data": {
      "text/html": [
       "<div>\n",
       "<style scoped>\n",
       "    .dataframe tbody tr th:only-of-type {\n",
       "        vertical-align: middle;\n",
       "    }\n",
       "\n",
       "    .dataframe tbody tr th {\n",
       "        vertical-align: top;\n",
       "    }\n",
       "\n",
       "    .dataframe thead th {\n",
       "        text-align: right;\n",
       "    }\n",
       "</style>\n",
       "<table border=\"1\" class=\"dataframe\">\n",
       "  <thead>\n",
       "    <tr style=\"text-align: right;\">\n",
       "      <th></th>\n",
       "      <th>Survived</th>\n",
       "      <th>Pclass</th>\n",
       "      <th>Age</th>\n",
       "      <th>Fare</th>\n",
       "      <th>SibSp</th>\n",
       "      <th>Parch</th>\n",
       "    </tr>\n",
       "  </thead>\n",
       "  <tbody>\n",
       "    <tr>\n",
       "      <th>0</th>\n",
       "      <td>0</td>\n",
       "      <td>3</td>\n",
       "      <td>22.0</td>\n",
       "      <td>7.2500</td>\n",
       "      <td>1</td>\n",
       "      <td>0</td>\n",
       "    </tr>\n",
       "    <tr>\n",
       "      <th>1</th>\n",
       "      <td>1</td>\n",
       "      <td>1</td>\n",
       "      <td>38.0</td>\n",
       "      <td>71.2833</td>\n",
       "      <td>1</td>\n",
       "      <td>0</td>\n",
       "    </tr>\n",
       "    <tr>\n",
       "      <th>2</th>\n",
       "      <td>1</td>\n",
       "      <td>3</td>\n",
       "      <td>26.0</td>\n",
       "      <td>7.9250</td>\n",
       "      <td>0</td>\n",
       "      <td>0</td>\n",
       "    </tr>\n",
       "    <tr>\n",
       "      <th>3</th>\n",
       "      <td>1</td>\n",
       "      <td>1</td>\n",
       "      <td>35.0</td>\n",
       "      <td>53.1000</td>\n",
       "      <td>1</td>\n",
       "      <td>0</td>\n",
       "    </tr>\n",
       "    <tr>\n",
       "      <th>4</th>\n",
       "      <td>0</td>\n",
       "      <td>3</td>\n",
       "      <td>35.0</td>\n",
       "      <td>8.0500</td>\n",
       "      <td>0</td>\n",
       "      <td>0</td>\n",
       "    </tr>\n",
       "  </tbody>\n",
       "</table>\n",
       "</div>"
      ],
      "text/plain": [
       "   Survived  Pclass   Age     Fare  SibSp  Parch\n",
       "0         0       3  22.0   7.2500      1      0\n",
       "1         1       1  38.0  71.2833      1      0\n",
       "2         1       3  26.0   7.9250      0      0\n",
       "3         1       1  35.0  53.1000      1      0\n",
       "4         0       3  35.0   8.0500      0      0"
      ]
     },
     "execution_count": 113,
     "metadata": {},
     "output_type": "execute_result"
    }
   ],
   "source": [
    "# log head\n",
    "df.head()"
   ]
  },
  {
   "cell_type": "markdown",
   "metadata": {},
   "source": [
    "## Aufgabe 2"
   ]
  },
  {
   "cell_type": "markdown",
   "metadata": {},
   "source": [
    "1. Unterteilen Sie den aus Aufgabe 1 entstandenen DataFrame mit Hilfe der Methode `train_test_split` in Trainings- und Testdaten. \n",
    "2. Trainieren Sie eine logistische Regression auf den Trainingsdaten mit \"Survived\" als Label. \n",
    "3. Machen Sie mit dem trainierten Model Vorhersagen auf den Testdaten und berechnen Sie:\n",
    "    - Accuracy\n",
    "    - Precision\n",
    "    - Recall"
   ]
  },
  {
   "cell_type": "code",
   "execution_count": 114,
   "metadata": {},
   "outputs": [
    {
     "name": "stdout",
     "output_type": "stream",
     "text": [
      "Shape of the training data:  (571, 5)\n",
      "Shape of the test data:  (143, 5)\n"
     ]
    }
   ],
   "source": [
    "from sklearn.model_selection import train_test_split\n",
    "\n",
    "# use train_test_split to split the data into train and test data\n",
    "X_train, X_test, y_train, y_test = train_test_split(df.drop('Survived', axis=1), df['Survived'], test_size=0.2, random_state=42)\n",
    "print('Shape of the training data: ', X_train.shape)\n",
    "print('Shape of the test data: ', X_test.shape)"
   ]
  },
  {
   "cell_type": "code",
   "execution_count": 115,
   "metadata": {},
   "outputs": [
    {
     "name": "stdout",
     "output_type": "stream",
     "text": [
      "Head of the training data:       Pclass   Age     Fare  SibSp  Parch\n",
      "328       3  31.0  20.5250      1      1\n",
      "73        3  26.0  14.4542      1      0\n",
      "253       3  30.0  16.1000      1      0\n",
      "719       3  33.0   7.7750      0      0\n",
      "666       2  25.0  13.0000      0      0\n"
     ]
    }
   ],
   "source": [
    "# log head of the training data\n",
    "print('Head of the training data: ', X_train.head())\n"
   ]
  },
  {
   "cell_type": "code",
   "execution_count": 116,
   "metadata": {},
   "outputs": [],
   "source": [
    "# training the model\n",
    "from sklearn.linear_model import LogisticRegression\n",
    "\n",
    "# create a logistic regression model\n",
    "model = LogisticRegression()\n",
    "\n",
    "# fit the model to the training data\n",
    "model.fit(X_train, y_train)\n",
    "\n",
    "# predict the test data\n",
    "y_pred = model.predict(X_test)"
   ]
  },
  {
   "cell_type": "code",
   "execution_count": 117,
   "metadata": {},
   "outputs": [
    {
     "name": "stdout",
     "output_type": "stream",
     "text": [
      "Accuracy score:  0.6993006993006993\n",
      "Precision score:  0.6666666666666666\n",
      "Recall score:  0.4642857142857143\n"
     ]
    }
   ],
   "source": [
    "# evaluate the model\n",
    "from sklearn.metrics import accuracy_score\n",
    "\n",
    "# calculate the accuracy score and store it in a variable\n",
    "accuracy = accuracy_score(y_test, y_pred)\n",
    "print('Accuracy score: ', accuracy)\n",
    "\n",
    "# calculate the precision score\n",
    "from sklearn.metrics import precision_score\n",
    "print('Precision score: ', precision_score(y_test, y_pred))\n",
    "\n",
    "# calculate the recall score\n",
    "from sklearn.metrics import recall_score\n",
    "print('Recall score: ', recall_score(y_test, y_pred))\n"
   ]
  },
  {
   "cell_type": "markdown",
   "metadata": {},
   "source": [
    "## Aufgabe 3"
   ]
  },
  {
   "cell_type": "markdown",
   "metadata": {},
   "source": [
    "1. Fügen Sie nun das Geschlecht als weiteres Feature hinzu und führen Sie die Schritte aus Aufgabe 1 und 2 erneut aus. Beachten Sie dabei, dass Geschlecht kein numerischer Wert ist, d.h. Sie müssen daraus ein numerisches Feature erstellen. Beispiel: Feature \"isFemale\" hat den Wert 1  wenn Sex == \"female\", sonst 0. <br>\n",
    "Hinweis: Python wandelt Booleans automatisch in Nummern um. \n",
    "2. In wie weit verbessert sich die Accuracy durch das neue Feature?\n",
    "3. Versuchen Sie nun auf ähnliche Weise die Spalte \"Embarked\" als Feature zu nutzen. "
   ]
  },
  {
   "cell_type": "code",
   "execution_count": 118,
   "metadata": {},
   "outputs": [
    {
     "name": "stdout",
     "output_type": "stream",
     "text": [
      "Shape of the dataframe:  (891, 7)\n",
      "Shape of the dataframe after dropping all rows with missing values:  (714, 7)\n"
     ]
    },
    {
     "data": {
      "text/html": [
       "<div>\n",
       "<style scoped>\n",
       "    .dataframe tbody tr th:only-of-type {\n",
       "        vertical-align: middle;\n",
       "    }\n",
       "\n",
       "    .dataframe tbody tr th {\n",
       "        vertical-align: top;\n",
       "    }\n",
       "\n",
       "    .dataframe thead th {\n",
       "        text-align: right;\n",
       "    }\n",
       "</style>\n",
       "<table border=\"1\" class=\"dataframe\">\n",
       "  <thead>\n",
       "    <tr style=\"text-align: right;\">\n",
       "      <th></th>\n",
       "      <th>Survived</th>\n",
       "      <th>Pclass</th>\n",
       "      <th>Sex</th>\n",
       "      <th>Age</th>\n",
       "      <th>Fare</th>\n",
       "      <th>SibSp</th>\n",
       "      <th>Parch</th>\n",
       "    </tr>\n",
       "  </thead>\n",
       "  <tbody>\n",
       "    <tr>\n",
       "      <th>0</th>\n",
       "      <td>0</td>\n",
       "      <td>3</td>\n",
       "      <td>male</td>\n",
       "      <td>22.0</td>\n",
       "      <td>7.2500</td>\n",
       "      <td>1</td>\n",
       "      <td>0</td>\n",
       "    </tr>\n",
       "    <tr>\n",
       "      <th>1</th>\n",
       "      <td>1</td>\n",
       "      <td>1</td>\n",
       "      <td>female</td>\n",
       "      <td>38.0</td>\n",
       "      <td>71.2833</td>\n",
       "      <td>1</td>\n",
       "      <td>0</td>\n",
       "    </tr>\n",
       "    <tr>\n",
       "      <th>2</th>\n",
       "      <td>1</td>\n",
       "      <td>3</td>\n",
       "      <td>female</td>\n",
       "      <td>26.0</td>\n",
       "      <td>7.9250</td>\n",
       "      <td>0</td>\n",
       "      <td>0</td>\n",
       "    </tr>\n",
       "    <tr>\n",
       "      <th>3</th>\n",
       "      <td>1</td>\n",
       "      <td>1</td>\n",
       "      <td>female</td>\n",
       "      <td>35.0</td>\n",
       "      <td>53.1000</td>\n",
       "      <td>1</td>\n",
       "      <td>0</td>\n",
       "    </tr>\n",
       "    <tr>\n",
       "      <th>4</th>\n",
       "      <td>0</td>\n",
       "      <td>3</td>\n",
       "      <td>male</td>\n",
       "      <td>35.0</td>\n",
       "      <td>8.0500</td>\n",
       "      <td>0</td>\n",
       "      <td>0</td>\n",
       "    </tr>\n",
       "  </tbody>\n",
       "</table>\n",
       "</div>"
      ],
      "text/plain": [
       "   Survived  Pclass     Sex   Age     Fare  SibSp  Parch\n",
       "0         0       3    male  22.0   7.2500      1      0\n",
       "1         1       1  female  38.0  71.2833      1      0\n",
       "2         1       3  female  26.0   7.9250      0      0\n",
       "3         1       1  female  35.0  53.1000      1      0\n",
       "4         0       3    male  35.0   8.0500      0      0"
      ]
     },
     "execution_count": 118,
     "metadata": {},
     "output_type": "execute_result"
    }
   ],
   "source": [
    "# create datafram with additional feature 'sex'\n",
    "df = df_all[['Survived', 'Pclass', 'Sex', 'Age', 'Fare', 'SibSp', 'Parch']]\n",
    "\n",
    "# log shape\n",
    "print('Shape of the dataframe: ', df.shape)\n",
    "\n",
    "# drop all rows with missing values\n",
    "df = df.dropna()\n",
    "\n",
    "# log shape\n",
    "print('Shape of the dataframe after dropping all rows with missing values: ', df.shape)\n",
    "\n",
    "df.head()"
   ]
  },
  {
   "cell_type": "code",
   "execution_count": 119,
   "metadata": {},
   "outputs": [
    {
     "data": {
      "text/html": [
       "<div>\n",
       "<style scoped>\n",
       "    .dataframe tbody tr th:only-of-type {\n",
       "        vertical-align: middle;\n",
       "    }\n",
       "\n",
       "    .dataframe tbody tr th {\n",
       "        vertical-align: top;\n",
       "    }\n",
       "\n",
       "    .dataframe thead th {\n",
       "        text-align: right;\n",
       "    }\n",
       "</style>\n",
       "<table border=\"1\" class=\"dataframe\">\n",
       "  <thead>\n",
       "    <tr style=\"text-align: right;\">\n",
       "      <th></th>\n",
       "      <th>Survived</th>\n",
       "      <th>Pclass</th>\n",
       "      <th>Sex</th>\n",
       "      <th>Age</th>\n",
       "      <th>Fare</th>\n",
       "      <th>SibSp</th>\n",
       "      <th>Parch</th>\n",
       "    </tr>\n",
       "  </thead>\n",
       "  <tbody>\n",
       "    <tr>\n",
       "      <th>0</th>\n",
       "      <td>0</td>\n",
       "      <td>3</td>\n",
       "      <td>0</td>\n",
       "      <td>22.0</td>\n",
       "      <td>7.2500</td>\n",
       "      <td>1</td>\n",
       "      <td>0</td>\n",
       "    </tr>\n",
       "    <tr>\n",
       "      <th>1</th>\n",
       "      <td>1</td>\n",
       "      <td>1</td>\n",
       "      <td>1</td>\n",
       "      <td>38.0</td>\n",
       "      <td>71.2833</td>\n",
       "      <td>1</td>\n",
       "      <td>0</td>\n",
       "    </tr>\n",
       "    <tr>\n",
       "      <th>2</th>\n",
       "      <td>1</td>\n",
       "      <td>3</td>\n",
       "      <td>1</td>\n",
       "      <td>26.0</td>\n",
       "      <td>7.9250</td>\n",
       "      <td>0</td>\n",
       "      <td>0</td>\n",
       "    </tr>\n",
       "    <tr>\n",
       "      <th>3</th>\n",
       "      <td>1</td>\n",
       "      <td>1</td>\n",
       "      <td>1</td>\n",
       "      <td>35.0</td>\n",
       "      <td>53.1000</td>\n",
       "      <td>1</td>\n",
       "      <td>0</td>\n",
       "    </tr>\n",
       "    <tr>\n",
       "      <th>4</th>\n",
       "      <td>0</td>\n",
       "      <td>3</td>\n",
       "      <td>0</td>\n",
       "      <td>35.0</td>\n",
       "      <td>8.0500</td>\n",
       "      <td>0</td>\n",
       "      <td>0</td>\n",
       "    </tr>\n",
       "  </tbody>\n",
       "</table>\n",
       "</div>"
      ],
      "text/plain": [
       "   Survived  Pclass  Sex   Age     Fare  SibSp  Parch\n",
       "0         0       3    0  22.0   7.2500      1      0\n",
       "1         1       1    1  38.0  71.2833      1      0\n",
       "2         1       3    1  26.0   7.9250      0      0\n",
       "3         1       1    1  35.0  53.1000      1      0\n",
       "4         0       3    0  35.0   8.0500      0      0"
      ]
     },
     "execution_count": 119,
     "metadata": {},
     "output_type": "execute_result"
    }
   ],
   "source": [
    "# replace the values of the feature Sex with 0 and 1\n",
    "df['Sex'] = df['Sex'].replace(to_replace='male', value=0)\n",
    "df['Sex'] = df['Sex'].replace(to_replace='female', value=1)\n",
    "\n",
    "# log head\n",
    "df.head()"
   ]
  },
  {
   "cell_type": "code",
   "execution_count": 120,
   "metadata": {},
   "outputs": [
    {
     "name": "stdout",
     "output_type": "stream",
     "text": [
      "Shape of the training data:  (571, 6)\n",
      "Shape of the test data:  (143, 6)\n"
     ]
    }
   ],
   "source": [
    "# use train_test_split to split the data into train and test data\n",
    "X_train, X_test, y_train, y_test = train_test_split(df.drop('Survived', axis=1), df['Survived'], test_size=0.2, random_state=42)\n",
    "print('Shape of the training data: ', X_train.shape)\n",
    "print('Shape of the test data: ', X_test.shape)"
   ]
  },
  {
   "cell_type": "code",
   "execution_count": 121,
   "metadata": {},
   "outputs": [
    {
     "data": {
      "text/html": [
       "<div>\n",
       "<style scoped>\n",
       "    .dataframe tbody tr th:only-of-type {\n",
       "        vertical-align: middle;\n",
       "    }\n",
       "\n",
       "    .dataframe tbody tr th {\n",
       "        vertical-align: top;\n",
       "    }\n",
       "\n",
       "    .dataframe thead th {\n",
       "        text-align: right;\n",
       "    }\n",
       "</style>\n",
       "<table border=\"1\" class=\"dataframe\">\n",
       "  <thead>\n",
       "    <tr style=\"text-align: right;\">\n",
       "      <th></th>\n",
       "      <th>Pclass</th>\n",
       "      <th>Sex</th>\n",
       "      <th>Age</th>\n",
       "      <th>Fare</th>\n",
       "      <th>SibSp</th>\n",
       "      <th>Parch</th>\n",
       "    </tr>\n",
       "  </thead>\n",
       "  <tbody>\n",
       "    <tr>\n",
       "      <th>328</th>\n",
       "      <td>3</td>\n",
       "      <td>1</td>\n",
       "      <td>31.0</td>\n",
       "      <td>20.5250</td>\n",
       "      <td>1</td>\n",
       "      <td>1</td>\n",
       "    </tr>\n",
       "    <tr>\n",
       "      <th>73</th>\n",
       "      <td>3</td>\n",
       "      <td>0</td>\n",
       "      <td>26.0</td>\n",
       "      <td>14.4542</td>\n",
       "      <td>1</td>\n",
       "      <td>0</td>\n",
       "    </tr>\n",
       "    <tr>\n",
       "      <th>253</th>\n",
       "      <td>3</td>\n",
       "      <td>0</td>\n",
       "      <td>30.0</td>\n",
       "      <td>16.1000</td>\n",
       "      <td>1</td>\n",
       "      <td>0</td>\n",
       "    </tr>\n",
       "    <tr>\n",
       "      <th>719</th>\n",
       "      <td>3</td>\n",
       "      <td>0</td>\n",
       "      <td>33.0</td>\n",
       "      <td>7.7750</td>\n",
       "      <td>0</td>\n",
       "      <td>0</td>\n",
       "    </tr>\n",
       "    <tr>\n",
       "      <th>666</th>\n",
       "      <td>2</td>\n",
       "      <td>0</td>\n",
       "      <td>25.0</td>\n",
       "      <td>13.0000</td>\n",
       "      <td>0</td>\n",
       "      <td>0</td>\n",
       "    </tr>\n",
       "  </tbody>\n",
       "</table>\n",
       "</div>"
      ],
      "text/plain": [
       "     Pclass  Sex   Age     Fare  SibSp  Parch\n",
       "328       3    1  31.0  20.5250      1      1\n",
       "73        3    0  26.0  14.4542      1      0\n",
       "253       3    0  30.0  16.1000      1      0\n",
       "719       3    0  33.0   7.7750      0      0\n",
       "666       2    0  25.0  13.0000      0      0"
      ]
     },
     "execution_count": 121,
     "metadata": {},
     "output_type": "execute_result"
    }
   ],
   "source": [
    "# log head of the training data\n",
    "X_train.head()"
   ]
  },
  {
   "cell_type": "code",
   "execution_count": 122,
   "metadata": {},
   "outputs": [],
   "source": [
    "# training the model\n",
    "# create a logistic regression model\n",
    "model = LogisticRegression()\n",
    "\n",
    "# fit the model to the training data\n",
    "model.fit(X_train, y_train)\n",
    "\n",
    "# predict the test data\n",
    "y_pred = model.predict(X_test)"
   ]
  },
  {
   "cell_type": "code",
   "execution_count": 123,
   "metadata": {},
   "outputs": [
    {
     "name": "stdout",
     "output_type": "stream",
     "text": [
      "Accuracy score:  0.7482517482517482\n",
      "Precision score:  0.6923076923076923\n",
      "Recall score:  0.6428571428571429\n",
      "Accuracy score improved by:  0.04895104895104896\n"
     ]
    }
   ],
   "source": [
    "# evaluate the model\n",
    "# calculate the accuracy score and store it in a variable\n",
    "accuracyWithSex = accuracy_score(y_test, y_pred)\n",
    "print('Accuracy score: ', accuracyWithSex)\n",
    "\n",
    "# calculate the precision score\n",
    "print('Precision score: ', precision_score(y_test, y_pred))\n",
    "\n",
    "# calculate the recall score\n",
    "print('Recall score: ', recall_score(y_test, y_pred))\n",
    "\n",
    "# calculate how much the accuracy score improved\n",
    "print('Accuracy score improved by: ', accuracyWithSex - accuracy)"
   ]
  },
  {
   "cell_type": "code",
   "execution_count": 124,
   "metadata": {},
   "outputs": [
    {
     "name": "stdout",
     "output_type": "stream",
     "text": [
      "Shape of the dataframe:  (891, 8)\n",
      "Shape of the dataframe after dropping all rows with missing values:  (712, 8)\n"
     ]
    },
    {
     "data": {
      "text/html": [
       "<div>\n",
       "<style scoped>\n",
       "    .dataframe tbody tr th:only-of-type {\n",
       "        vertical-align: middle;\n",
       "    }\n",
       "\n",
       "    .dataframe tbody tr th {\n",
       "        vertical-align: top;\n",
       "    }\n",
       "\n",
       "    .dataframe thead th {\n",
       "        text-align: right;\n",
       "    }\n",
       "</style>\n",
       "<table border=\"1\" class=\"dataframe\">\n",
       "  <thead>\n",
       "    <tr style=\"text-align: right;\">\n",
       "      <th></th>\n",
       "      <th>Survived</th>\n",
       "      <th>Pclass</th>\n",
       "      <th>Sex</th>\n",
       "      <th>Age</th>\n",
       "      <th>Fare</th>\n",
       "      <th>SibSp</th>\n",
       "      <th>Parch</th>\n",
       "      <th>Embarked</th>\n",
       "    </tr>\n",
       "  </thead>\n",
       "  <tbody>\n",
       "    <tr>\n",
       "      <th>0</th>\n",
       "      <td>0</td>\n",
       "      <td>3</td>\n",
       "      <td>male</td>\n",
       "      <td>22.0</td>\n",
       "      <td>7.2500</td>\n",
       "      <td>1</td>\n",
       "      <td>0</td>\n",
       "      <td>S</td>\n",
       "    </tr>\n",
       "    <tr>\n",
       "      <th>1</th>\n",
       "      <td>1</td>\n",
       "      <td>1</td>\n",
       "      <td>female</td>\n",
       "      <td>38.0</td>\n",
       "      <td>71.2833</td>\n",
       "      <td>1</td>\n",
       "      <td>0</td>\n",
       "      <td>C</td>\n",
       "    </tr>\n",
       "    <tr>\n",
       "      <th>2</th>\n",
       "      <td>1</td>\n",
       "      <td>3</td>\n",
       "      <td>female</td>\n",
       "      <td>26.0</td>\n",
       "      <td>7.9250</td>\n",
       "      <td>0</td>\n",
       "      <td>0</td>\n",
       "      <td>S</td>\n",
       "    </tr>\n",
       "    <tr>\n",
       "      <th>3</th>\n",
       "      <td>1</td>\n",
       "      <td>1</td>\n",
       "      <td>female</td>\n",
       "      <td>35.0</td>\n",
       "      <td>53.1000</td>\n",
       "      <td>1</td>\n",
       "      <td>0</td>\n",
       "      <td>S</td>\n",
       "    </tr>\n",
       "    <tr>\n",
       "      <th>4</th>\n",
       "      <td>0</td>\n",
       "      <td>3</td>\n",
       "      <td>male</td>\n",
       "      <td>35.0</td>\n",
       "      <td>8.0500</td>\n",
       "      <td>0</td>\n",
       "      <td>0</td>\n",
       "      <td>S</td>\n",
       "    </tr>\n",
       "  </tbody>\n",
       "</table>\n",
       "</div>"
      ],
      "text/plain": [
       "   Survived  Pclass     Sex   Age     Fare  SibSp  Parch Embarked\n",
       "0         0       3    male  22.0   7.2500      1      0        S\n",
       "1         1       1  female  38.0  71.2833      1      0        C\n",
       "2         1       3  female  26.0   7.9250      0      0        S\n",
       "3         1       1  female  35.0  53.1000      1      0        S\n",
       "4         0       3    male  35.0   8.0500      0      0        S"
      ]
     },
     "execution_count": 124,
     "metadata": {},
     "output_type": "execute_result"
    }
   ],
   "source": [
    "# create datafram with additional feature 'Embarked' and 'Sex'\n",
    "df = df_all[['Survived', 'Pclass', 'Sex', 'Age', 'Fare', 'SibSp', 'Parch', 'Embarked']]\n",
    "\n",
    "# log shape\n",
    "print('Shape of the dataframe: ', df.shape)\n",
    "\n",
    "# drop all rows with missing values\n",
    "df = df.dropna()\n",
    "\n",
    "# log shape\n",
    "print('Shape of the dataframe after dropping all rows with missing values: ', df.shape)\n",
    "\n",
    "df.head()"
   ]
  },
  {
   "cell_type": "code",
   "execution_count": 125,
   "metadata": {},
   "outputs": [
    {
     "data": {
      "text/html": [
       "<div>\n",
       "<style scoped>\n",
       "    .dataframe tbody tr th:only-of-type {\n",
       "        vertical-align: middle;\n",
       "    }\n",
       "\n",
       "    .dataframe tbody tr th {\n",
       "        vertical-align: top;\n",
       "    }\n",
       "\n",
       "    .dataframe thead th {\n",
       "        text-align: right;\n",
       "    }\n",
       "</style>\n",
       "<table border=\"1\" class=\"dataframe\">\n",
       "  <thead>\n",
       "    <tr style=\"text-align: right;\">\n",
       "      <th></th>\n",
       "      <th>Survived</th>\n",
       "      <th>Pclass</th>\n",
       "      <th>Sex</th>\n",
       "      <th>Age</th>\n",
       "      <th>Fare</th>\n",
       "      <th>SibSp</th>\n",
       "      <th>Parch</th>\n",
       "      <th>Embarked</th>\n",
       "    </tr>\n",
       "  </thead>\n",
       "  <tbody>\n",
       "    <tr>\n",
       "      <th>0</th>\n",
       "      <td>0</td>\n",
       "      <td>3</td>\n",
       "      <td>0</td>\n",
       "      <td>22.0</td>\n",
       "      <td>7.2500</td>\n",
       "      <td>1</td>\n",
       "      <td>0</td>\n",
       "      <td>0</td>\n",
       "    </tr>\n",
       "    <tr>\n",
       "      <th>1</th>\n",
       "      <td>1</td>\n",
       "      <td>1</td>\n",
       "      <td>1</td>\n",
       "      <td>38.0</td>\n",
       "      <td>71.2833</td>\n",
       "      <td>1</td>\n",
       "      <td>0</td>\n",
       "      <td>1</td>\n",
       "    </tr>\n",
       "    <tr>\n",
       "      <th>2</th>\n",
       "      <td>1</td>\n",
       "      <td>3</td>\n",
       "      <td>1</td>\n",
       "      <td>26.0</td>\n",
       "      <td>7.9250</td>\n",
       "      <td>0</td>\n",
       "      <td>0</td>\n",
       "      <td>0</td>\n",
       "    </tr>\n",
       "    <tr>\n",
       "      <th>3</th>\n",
       "      <td>1</td>\n",
       "      <td>1</td>\n",
       "      <td>1</td>\n",
       "      <td>35.0</td>\n",
       "      <td>53.1000</td>\n",
       "      <td>1</td>\n",
       "      <td>0</td>\n",
       "      <td>0</td>\n",
       "    </tr>\n",
       "    <tr>\n",
       "      <th>4</th>\n",
       "      <td>0</td>\n",
       "      <td>3</td>\n",
       "      <td>0</td>\n",
       "      <td>35.0</td>\n",
       "      <td>8.0500</td>\n",
       "      <td>0</td>\n",
       "      <td>0</td>\n",
       "      <td>0</td>\n",
       "    </tr>\n",
       "  </tbody>\n",
       "</table>\n",
       "</div>"
      ],
      "text/plain": [
       "   Survived  Pclass  Sex   Age     Fare  SibSp  Parch  Embarked\n",
       "0         0       3    0  22.0   7.2500      1      0         0\n",
       "1         1       1    1  38.0  71.2833      1      0         1\n",
       "2         1       3    1  26.0   7.9250      0      0         0\n",
       "3         1       1    1  35.0  53.1000      1      0         0\n",
       "4         0       3    0  35.0   8.0500      0      0         0"
      ]
     },
     "execution_count": 125,
     "metadata": {},
     "output_type": "execute_result"
    }
   ],
   "source": [
    "# replace the values of the features Sex and Embarked with 0 and 1\n",
    "df['Sex'] = df['Sex'].replace(to_replace='male', value=0)\n",
    "df['Sex'] = df['Sex'].replace(to_replace='female', value=1)\n",
    "df['Embarked'] = df['Embarked'].replace(to_replace='S', value=0)\n",
    "df['Embarked'] = df['Embarked'].replace(to_replace='C', value=1)\n",
    "df['Embarked'] = df['Embarked'].replace(to_replace='Q', value=2)\n",
    "\n",
    "# log head\n",
    "df.head()"
   ]
  },
  {
   "cell_type": "code",
   "execution_count": 126,
   "metadata": {},
   "outputs": [
    {
     "name": "stdout",
     "output_type": "stream",
     "text": [
      "Shape of the training data:  (569, 7)\n",
      "Shape of the test data:  (143, 7)\n"
     ]
    }
   ],
   "source": [
    "# clear the data\n",
    "X_train = None\n",
    "X_test = None\n",
    "y_train = None\n",
    "y_test = None\n",
    "\n",
    "# use train_test_split to split the data into train and test data\n",
    "X_train, X_test, y_train, y_test = train_test_split(df.drop('Survived', axis=1), df['Survived'], test_size=0.2, random_state=42)\n",
    "print('Shape of the training data: ', X_train.shape)\n",
    "print('Shape of the test data: ', X_test.shape)"
   ]
  },
  {
   "cell_type": "code",
   "execution_count": 127,
   "metadata": {},
   "outputs": [],
   "source": [
    "# training the model\n",
    "# create a logistic regression model\n",
    "model = LogisticRegression(max_iter=1000)\n",
    "\n",
    "# fit the model to the training data\n",
    "model.fit(X_train, y_train)\n",
    "\n",
    "# predict the test data\n",
    "y_pred = model.predict(X_test)"
   ]
  },
  {
   "cell_type": "code",
   "execution_count": 129,
   "metadata": {},
   "outputs": [
    {
     "name": "stdout",
     "output_type": "stream",
     "text": [
      "Accuracy score:  0.7972027972027972\n",
      "Precision score:  0.8541666666666666\n",
      "Recall score:  0.6507936507936508\n",
      "Accuracy score improved by:  0.04895104895104896\n"
     ]
    }
   ],
   "source": [
    "# evaluate the model\n",
    "# calculate the accuracy score and store it in a variable\n",
    "accuracyWithSexAndEmbarked = accuracy_score(y_test, y_pred)\n",
    "\n",
    "# calculate the precision score\n",
    "precisionWithSexAndEmbarked = precision_score(y_test, y_pred)\n",
    "\n",
    "# calculate the recall score\n",
    "recallWithSexAndEmbarked = recall_score(y_test, y_pred)\n",
    "\n",
    "\n",
    "# print the accuracy score\n",
    "print('Accuracy score: ', accuracyWithSexAndEmbarked)\n",
    "\n",
    "# print the precision score\n",
    "print('Precision score: ', precisionWithSexAndEmbarked)\n",
    "\n",
    "# print the recall score\n",
    "print('Recall score: ', recallWithSexAndEmbarked)\n",
    "\n",
    "# calculate how much the accuracy score improved\n",
    "print('Accuracy score improved by: ', accuracyWithSexAndEmbarked - accuracyWithSex)\n"
   ]
  },
  {
   "cell_type": "code",
   "execution_count": null,
   "metadata": {},
   "outputs": [],
   "source": []
  },
  {
   "cell_type": "markdown",
   "metadata": {},
   "source": [
    "## Bonus"
   ]
  },
  {
   "cell_type": "markdown",
   "metadata": {},
   "source": [
    "Welches sind die wichtigsten und unwichtigsten Features des Modells fur die Vorhersage? "
   ]
  }
 ],
 "metadata": {
  "kernelspec": {
   "display_name": "Python 3.8.13 ('ml-env')",
   "language": "python",
   "name": "python3"
  },
  "language_info": {
   "codemirror_mode": {
    "name": "ipython",
    "version": 3
   },
   "file_extension": ".py",
   "mimetype": "text/x-python",
   "name": "python",
   "nbconvert_exporter": "python",
   "pygments_lexer": "ipython3",
   "version": "3.8.13"
  },
  "vscode": {
   "interpreter": {
    "hash": "c05a811d538a2b13f6a8e08fbeb3fd458bca6a94fd2685c1b9563894d3e17f10"
   }
  }
 },
 "nbformat": 4,
 "nbformat_minor": 2
}
